{
 "cells": [
  {
   "cell_type": "markdown",
   "id": "6deb1f4d",
   "metadata": {},
   "source": [
    "# Exploratory Data Analysis Report\n",
    "\n",
    "This notebook performs an automated EDA on the `data.csv` file. All outputs are generated automatically via GitHub Actions."
   ]
  },
  {
   "cell_type": "code",
   "execution_count": null,
   "id": "d1491947",
   "metadata": {},
   "outputs": [],
   "source": [
    "import pandas as pd\n",
    "import matplotlib.pyplot as plt\n",
    "import seaborn as sns\n",
    "\n",
    "# Set plot style\n",
    "sns.set_theme(style=\"whitegrid\")"
   ]
  },
  {
   "cell_type": "markdown",
   "id": "a3b4c463",
   "metadata": {},
   "source": [
    "## 1. Load and Inspect Data"
   ]
  },
  {
   "cell_type": "code",
   "execution_count": null,
   "id": "cf5e04b7",
   "metadata": {},
   "outputs": [],
   "source": [
    "CSV_COLUMNS = [\n",
    "    'Name', 'Address', 'PostalCode', 'City', 'Canton', 'Phone', \n",
    "    'Email', 'Website', 'Specialty', 'Source'\n",
    "]\n",
    "df = pd.read_csv('data.csv', names=CSV_COLUMNS, header=0)\n",
    "\n",
    "print(\"First 5 rows:\")\n",
    "display(df.head())"
   ]
  },
  {
   "cell_type": "markdown",
   "id": "c521f3e0",
   "metadata": {},
   "source": [
    "## 2. Basic Information & Data Quality"
   ]
  },
  {
   "cell_type": "code",
   "execution_count": null,
   "id": "06adadf9",
   "metadata": {},
   "outputs": [],
   "source": [
    "print(f\"Dataset Shape: {df.shape[0]} rows and {df.shape[1]} columns.\")\n",
    "print(\"\\nData Types:\")\n",
    "display(df.info())"
   ]
  },
  {
   "cell_type": "code",
   "execution_count": null,
   "id": "fd3f2719",
   "metadata": {},
   "outputs": [],
   "source": [
    "print(\"Missing Values per Column:\")\n",
    "display(df.isnull().sum())"
   ]
  },
  {
   "cell_type": "code",
   "execution_count": null,
   "id": "ab1e9c86",
   "metadata": {},
   "outputs": [],
   "source": [
    "print(f\"Number of duplicate rows: {df.duplicated().sum()}\")"
   ]
  },
  {
   "cell_type": "markdown",
   "id": "9ed5e9db",
   "metadata": {},
   "source": [
    "## 3. Univariate Analysis"
   ]
  },
  {
   "cell_type": "markdown",
   "id": "6016c3b0",
   "metadata": {},
   "source": [
    "### Top 10 Cantons"
   ]
  },
  {
   "cell_type": "code",
   "execution_count": null,
   "id": "2bd7b05f",
   "metadata": {},
   "outputs": [],
   "source": [
    "top_cantons = df['Canton'].value_counts().nlargest(10)\n",
    "print(top_cantons)\n",
    "\n",
    "plt.figure(figsize=(12, 6))\n",
    "sns.barplot(x=top_cantons.index, y=top_cantons.values, palette='viridis')\n",
    "plt.title('Top 10 Cantons by Number of Entries')\n",
    "plt.xlabel('Canton')\n",
    "plt.ylabel('Count')\n",
    "plt.show()"
   ]
  },
  {
   "cell_type": "markdown",
   "id": "f2c9b9ae",
   "metadata": {},
   "source": [
    "### Top 10 Specialties"
   ]
  },
  {
   "cell_type": "code",
   "execution_count": null,
   "id": "4dea11b8",
   "metadata": {},
   "outputs": [],
   "source": [
    "top_specialties = df['Specialty'].value_counts().nlargest(10)\n",
    "print(top_specialties)\n",
    "\n",
    "plt.figure(figsize=(12, 8))\n",
    "sns.barplot(x=top_specialties.values, y=top_specialties.index, palette='plasma', orient='h')\n",
    "plt.title('Top 10 Specialties by Number of Entries')\n",
    "plt.xlabel('Count')\n",
    "plt.ylabel('Specialty')\n",
    "plt.show()"
   ]
  },
  {
   "cell_type": "markdown",
   "id": "a38ac25c",
   "metadata": {},
   "source": [
    "## 4. EDA Summary\n",
    "\n",
    "The analysis is complete. This notebook provides a snapshot of the data's structure, quality, and key distributions."
   ]
  }
 ],
 "metadata": {
  "language_info": {
   "name": "python"
  }
 },
 "nbformat": 4,
 "nbformat_minor": 5
}
