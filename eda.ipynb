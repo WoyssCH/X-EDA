{
 "cells": [
  {
   "cell_type": "markdown",
   "id": "6deb1f4d",
   "metadata": {},
   "source": [
    "# Exploratory Data Analysis Report\n",
    "\n",
    "This notebook performs an automated EDA on the `data.csv` file. All outputs are generated automatically via GitHub Actions."
   ]
  },
  {
   "cell_type": "code",
   "execution_count": 1,
   "id": "d1491947",
   "metadata": {
    "execution": {
     "iopub.execute_input": "2025-10-19T18:45:11.247113Z",
     "iopub.status.busy": "2025-10-19T18:45:11.246925Z",
     "iopub.status.idle": "2025-10-19T18:45:13.136526Z",
     "shell.execute_reply": "2025-10-19T18:45:13.135527Z"
    }
   },
   "outputs": [],
   "source": [
    "import pandas as pd\n",
    "import matplotlib.pyplot as plt\n",
    "import seaborn as sns\n",
    "\n",
    "# Set plot style\n",
    "sns.set_theme(style=\"whitegrid\")"
   ]
  },
  {
   "cell_type": "markdown",
   "id": "a3b4c463",
   "metadata": {},
   "source": [
    "## 1. Load and Inspect Data"
   ]
  },
  {
   "cell_type": "code",
   "execution_count": 2,
   "id": "cf5e04b7",
   "metadata": {
    "execution": {
     "iopub.execute_input": "2025-10-19T18:45:13.139139Z",
     "iopub.status.busy": "2025-10-19T18:45:13.138770Z",
     "iopub.status.idle": "2025-10-19T18:45:13.153696Z",
     "shell.execute_reply": "2025-10-19T18:45:13.152766Z"
    }
   },
   "outputs": [
    {
     "name": "stdout",
     "output_type": "stream",
     "text": [
      "First 5 rows:\n"
     ]
    },
    {
     "data": {
      "text/html": [
       "<div>\n",
       "<style scoped>\n",
       "    .dataframe tbody tr th:only-of-type {\n",
       "        vertical-align: middle;\n",
       "    }\n",
       "\n",
       "    .dataframe tbody tr th {\n",
       "        vertical-align: top;\n",
       "    }\n",
       "\n",
       "    .dataframe thead th {\n",
       "        text-align: right;\n",
       "    }\n",
       "</style>\n",
       "<table border=\"1\" class=\"dataframe\">\n",
       "  <thead>\n",
       "    <tr style=\"text-align: right;\">\n",
       "      <th></th>\n",
       "      <th>Name</th>\n",
       "      <th>Address</th>\n",
       "      <th>PostalCode</th>\n",
       "      <th>City</th>\n",
       "      <th>Canton</th>\n",
       "      <th>Phone</th>\n",
       "      <th>Email</th>\n",
       "      <th>Website</th>\n",
       "      <th>Specialty</th>\n",
       "      <th>Source</th>\n",
       "    </tr>\n",
       "  </thead>\n",
       "  <tbody>\n",
       "    <tr>\n",
       "      <th>0</th>\n",
       "      <td>Praxis Dr. Meier</td>\n",
       "      <td>Bahnhofstrasse 1</td>\n",
       "      <td>8001</td>\n",
       "      <td>Zürich</td>\n",
       "      <td>ZH</td>\n",
       "      <td>044 123 45 67</td>\n",
       "      <td>info@meier.ch</td>\n",
       "      <td>www.meier.ch</td>\n",
       "      <td>Allgemeinmedizin</td>\n",
       "      <td>WebScraping</td>\n",
       "    </tr>\n",
       "    <tr>\n",
       "      <th>1</th>\n",
       "      <td>Klinik am See</td>\n",
       "      <td>Seeweg 12</td>\n",
       "      <td>6005</td>\n",
       "      <td>Luzern</td>\n",
       "      <td>LU</td>\n",
       "      <td>041 987 65 43</td>\n",
       "      <td>kontakt@klinik-see.ch</td>\n",
       "      <td>NaN</td>\n",
       "      <td>Kardiologie</td>\n",
       "      <td>ManualEntry</td>\n",
       "    </tr>\n",
       "    <tr>\n",
       "      <th>2</th>\n",
       "      <td>Dr. med. Weber</td>\n",
       "      <td>Rue du Rhone 50</td>\n",
       "      <td>1204</td>\n",
       "      <td>Genève</td>\n",
       "      <td>GE</td>\n",
       "      <td>NaN</td>\n",
       "      <td>info@weber-med.ch</td>\n",
       "      <td>www.weber-med.ch</td>\n",
       "      <td>Dermatologie</td>\n",
       "      <td>WebScraping</td>\n",
       "    </tr>\n",
       "    <tr>\n",
       "      <th>3</th>\n",
       "      <td>Gesundheitszentrum Bern</td>\n",
       "      <td>Marktgasse 3</td>\n",
       "      <td>3011</td>\n",
       "      <td>Bern</td>\n",
       "      <td>BE</td>\n",
       "      <td>031 111 22 33</td>\n",
       "      <td>bern@gz.ch</td>\n",
       "      <td>www.gz-bern.ch</td>\n",
       "      <td>Allgemeinmedizin</td>\n",
       "      <td>Referral</td>\n",
       "    </tr>\n",
       "    <tr>\n",
       "      <th>4</th>\n",
       "      <td>Praxis Alpenglück</td>\n",
       "      <td>Dorfplatz 4</td>\n",
       "      <td>3818</td>\n",
       "      <td>Grindelwald</td>\n",
       "      <td>BE</td>\n",
       "      <td>NaN</td>\n",
       "      <td>NaN</td>\n",
       "      <td>www.alpenglueck.ch</td>\n",
       "      <td>Orthopädie</td>\n",
       "      <td>ManualEntry</td>\n",
       "    </tr>\n",
       "  </tbody>\n",
       "</table>\n",
       "</div>"
      ],
      "text/plain": [
       "                      Name           Address  PostalCode         City Canton  \\\n",
       "0         Praxis Dr. Meier  Bahnhofstrasse 1        8001       Zürich     ZH   \n",
       "1            Klinik am See         Seeweg 12        6005       Luzern     LU   \n",
       "2           Dr. med. Weber   Rue du Rhone 50        1204       Genève     GE   \n",
       "3  Gesundheitszentrum Bern      Marktgasse 3        3011         Bern     BE   \n",
       "4        Praxis Alpenglück       Dorfplatz 4        3818  Grindelwald     BE   \n",
       "\n",
       "           Phone                  Email             Website         Specialty  \\\n",
       "0  044 123 45 67          info@meier.ch        www.meier.ch  Allgemeinmedizin   \n",
       "1  041 987 65 43  kontakt@klinik-see.ch                 NaN       Kardiologie   \n",
       "2            NaN      info@weber-med.ch    www.weber-med.ch      Dermatologie   \n",
       "3  031 111 22 33             bern@gz.ch      www.gz-bern.ch  Allgemeinmedizin   \n",
       "4            NaN                    NaN  www.alpenglueck.ch        Orthopädie   \n",
       "\n",
       "        Source  \n",
       "0  WebScraping  \n",
       "1  ManualEntry  \n",
       "2  WebScraping  \n",
       "3     Referral  \n",
       "4  ManualEntry  "
      ]
     },
     "metadata": {},
     "output_type": "display_data"
    }
   ],
   "source": [
    "df = pd.read_csv('data.csv')\n",
    "\n",
    "print(\"First 5 rows:\")\n",
    "display(df.head())"
   ]
  },
  {
   "cell_type": "markdown",
   "id": "c521f3e0",
   "metadata": {},
   "source": [
    "## 2. Basic Information & Data Quality"
   ]
  },
  {
   "cell_type": "code",
   "execution_count": 3,
   "id": "06adadf9",
   "metadata": {
    "execution": {
     "iopub.execute_input": "2025-10-19T18:45:13.155533Z",
     "iopub.status.busy": "2025-10-19T18:45:13.155336Z",
     "iopub.status.idle": "2025-10-19T18:45:13.164571Z",
     "shell.execute_reply": "2025-10-19T18:45:13.163646Z"
    }
   },
   "outputs": [
    {
     "name": "stdout",
     "output_type": "stream",
     "text": [
      "Dataset Shape: 6 rows and 10 columns.\n",
      "\n",
      "Data Types:\n",
      "<class 'pandas.core.frame.DataFrame'>\n",
      "RangeIndex: 6 entries, 0 to 5\n",
      "Data columns (total 10 columns):\n",
      " #   Column      Non-Null Count  Dtype \n",
      "---  ------      --------------  ----- \n",
      " 0   Name        6 non-null      object\n",
      " 1   Address     6 non-null      object\n",
      " 2   PostalCode  6 non-null      int64 \n",
      " 3   City        6 non-null      object\n",
      " 4   Canton      6 non-null      object\n",
      " 5   Phone       3 non-null      object\n",
      " 6   Email       4 non-null      object\n",
      " 7   Website     5 non-null      object\n",
      " 8   Specialty   6 non-null      object\n",
      " 9   Source      6 non-null      object\n",
      "dtypes: int64(1), object(9)\n",
      "memory usage: 608.0+ bytes\n"
     ]
    },
    {
     "data": {
      "text/plain": [
       "None"
      ]
     },
     "metadata": {},
     "output_type": "display_data"
    }
   ],
   "source": [
    "print(f\"Dataset Shape: {df.shape[0]} rows and {df.shape[1]} columns.\")\n",
    "print(\"\\nData Types:\")\n",
    "display(df.info())"
   ]
  },
  {
   "cell_type": "code",
   "execution_count": 4,
   "id": "fd3f2719",
   "metadata": {
    "execution": {
     "iopub.execute_input": "2025-10-19T18:45:13.166317Z",
     "iopub.status.busy": "2025-10-19T18:45:13.166122Z",
     "iopub.status.idle": "2025-10-19T18:45:13.172013Z",
     "shell.execute_reply": "2025-10-19T18:45:13.171056Z"
    }
   },
   "outputs": [
    {
     "name": "stdout",
     "output_type": "stream",
     "text": [
      "Missing Values per Column:\n"
     ]
    },
    {
     "data": {
      "text/plain": [
       "Name          0\n",
       "Address       0\n",
       "PostalCode    0\n",
       "City          0\n",
       "Canton        0\n",
       "Phone         3\n",
       "Email         2\n",
       "Website       1\n",
       "Specialty     0\n",
       "Source        0\n",
       "dtype: int64"
      ]
     },
     "metadata": {},
     "output_type": "display_data"
    }
   ],
   "source": [
    "print(\"Missing Values per Column:\")\n",
    "display(df.isnull().sum())"
   ]
  },
  {
   "cell_type": "code",
   "execution_count": 5,
   "id": "ab1e9c86",
   "metadata": {
    "execution": {
     "iopub.execute_input": "2025-10-19T18:45:13.173743Z",
     "iopub.status.busy": "2025-10-19T18:45:13.173549Z",
     "iopub.status.idle": "2025-10-19T18:45:13.178223Z",
     "shell.execute_reply": "2025-10-19T18:45:13.177363Z"
    }
   },
   "outputs": [
    {
     "name": "stdout",
     "output_type": "stream",
     "text": [
      "Number of duplicate rows: 1\n"
     ]
    }
   ],
   "source": [
    "print(f\"Number of duplicate rows: {df.duplicated().sum()}\")"
   ]
  },
  {
   "cell_type": "markdown",
   "id": "9ed5e9db",
   "metadata": {},
   "source": [
    "## 3. Univariate Analysis"
   ]
  },
  {
   "cell_type": "markdown",
   "id": "6016c3b0",
   "metadata": {},
   "source": [
    "### Top 10 Cantons"
   ]
  },
  {
   "cell_type": "code",
   "execution_count": 6,
   "id": "2bd7b05f",
   "metadata": {
    "execution": {
     "iopub.execute_input": "2025-10-19T18:45:13.180215Z",
     "iopub.status.busy": "2025-10-19T18:45:13.180019Z",
     "iopub.status.idle": "2025-10-19T18:45:13.324536Z",
     "shell.execute_reply": "2025-10-19T18:45:13.323539Z"
    }
   },
   "outputs": [
    {
     "name": "stdout",
     "output_type": "stream",
     "text": [
      "Canton\n",
      "BE    3\n",
      "ZH    1\n",
      "LU    1\n",
      "GE    1\n",
      "Name: count, dtype: int64\n"
     ]
    },
    {
     "name": "stderr",
     "output_type": "stream",
     "text": [
      "/tmp/ipykernel_2298/1704701288.py:5: FutureWarning: \n",
      "\n",
      "Passing `palette` without assigning `hue` is deprecated and will be removed in v0.14.0. Assign the `x` variable to `hue` and set `legend=False` for the same effect.\n",
      "\n",
      "  sns.barplot(x=top_cantons.index, y=top_cantons.values, palette='viridis')\n"
     ]
    },
    {
     "data": {
      "image/png": "[encoded data removed]",
      "text/plain": [
       "<Figure size 1200x600 with 1 Axes>"
      ]
     },
     "metadata": {},
     "output_type": "display_data"
    }
   ],
   "source": [
    "top_cantons = df['Canton'].value_counts().nlargest(10)\n",
    "print(top_cantons)\n",
    "\n",
    "plt.figure(figsize=(12, 6))\n",
    "sns.barplot(x=top_cantons.index, y=top_cantons.values, palette='viridis')\n",
    "plt.title('Top 10 Cantons by Number of Entries')\n",
    "plt.xlabel('Canton')\n",
    "plt.ylabel('Count')\n",
    "plt.show()"
   ]
  },
  {
   "cell_type": "markdown",
   "id": "f2c9b9ae",
   "metadata": {},
   "source": [
    "### Top 10 Specialties"
   ]
  },
  {
   "cell_type": "code",
   "execution_count": 7,
   "id": "4dea11b8",
   "metadata": {
    "execution": {
     "iopub.execute_input": "2025-10-19T18:45:13.326774Z",
     "iopub.status.busy": "2025-10-19T18:45:13.326348Z",
     "iopub.status.idle": "2025-10-19T18:45:13.480863Z",
     "shell.execute_reply": "2025-10-19T18:45:13.479893Z"
    }
   },
   "outputs": [
    {
     "name": "stdout",
     "output_type": "stream",
     "text": [
      "Specialty\n",
      "Allgemeinmedizin    2\n",
      "Orthopädie          2\n",
      "Kardiologie         1\n",
      "Dermatologie        1\n",
      "Name: count, dtype: int64\n"
     ]
    },
    {
     "name": "stderr",
     "output_type": "stream",
     "text": [
      "/tmp/ipykernel_2298/650083304.py:5: FutureWarning: \n",
      "\n",
      "Passing `palette` without assigning `hue` is deprecated and will be removed in v0.14.0. Assign the `y` variable to `hue` and set `legend=False` for the same effect.\n",
      "\n",
      "  sns.barplot(x=top_specialties.values, y=top_specialties.index, palette='plasma', orient='h')\n"
     ]
    },
    {
     "data": {
      "image/png": "[encoded data removed]",
      "text/plain": [
       "<Figure size 1200x800 with 1 Axes>"
      ]
     },
     "metadata": {},
     "output_type": "display_data"
    }
   ],
   "source": [
    "top_specialties = df['Specialty'].value_counts().nlargest(10)\n",
    "print(top_specialties)\n",
    "\n",
    "plt.figure(figsize=(12, 8))\n",
    "sns.barplot(x=top_specialties.values, y=top_specialties.index, palette='plasma', orient='h')\n",
    "plt.title('Top 10 Specialties by Number of Entries')\n",
    "plt.xlabel('Count')\n",
    "plt.ylabel('Specialty')\n",
    "plt.show()"
   ]
  },
  {
   "cell_type": "markdown",
   "id": "a38ac25c",
   "metadata": {},
   "source": [
    "## 4. EDA Summary\n",
    "\n",
    "The analysis is complete. This notebook provides a snapshot of the data's structure, quality, and key distributions."
   ]
  }
 ],
 "metadata": {
  "language_info": {
   "codemirror_mode": {
    "name": "ipython",
    "version": 3
   },
   "file_extension": ".py",
   "mimetype": "text/x-python",
   "name": "python",
   "nbconvert_exporter": "python",
   "pygments_lexer": "ipython3",
   "version": "3.10.19"
  }
 },
 "nbformat": 4,
 "nbformat_minor": 5
}
