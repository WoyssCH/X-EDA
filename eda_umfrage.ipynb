{
 "cells": [
  {
   "cell_type": "markdown",
   "id": "638931a4",
   "metadata": {},
   "source": [
    "# Survey Exploratory Data Analysis Report\n",
    "\n",
    "This notebook performs an automated EDA on the `umfrage.xlsx` file containing survey responses from dental practice staff. All outputs are generated automatically via GitHub Actions."
   ]
  },
  {
   "cell_type": "code",
   "execution_count": null,
   "id": "daccc2c7",
   "metadata": {},
   "outputs": [],
   "source": [
    "import pandas as pd\n",
    "import matplotlib.pyplot as plt\n",
    "import seaborn as sns\n",
    "import numpy as np\n",
    "from datetime import datetime\n",
    "\n",
    "# Set plot style\n",
    "sns.set_theme(style=\"whitegrid\")\n",
    "plt.rcParams['figure.figsize'] = (12, 8)"
   ]
  },
  {
   "cell_type": "markdown",
   "id": "14416d48",
   "metadata": {},
   "source": [
    "## 1. Load and Inspect Survey Data"
   ]
  },
  {
   "cell_type": "code",
   "execution_count": null,
   "id": "df466a52",
   "metadata": {},
   "outputs": [],
   "source": [
    "# Load the survey data\n",
    "df = pd.read_excel('umfrage.xlsx')\n",
    "\n",
    "print(f\"Survey Dataset Shape: {df.shape[0]} responses and {df.shape[1]} columns\")\n",
    "print(\"\\nFirst 2 responses (basic info only):\")\n",
    "display(df[['ID', 'Name', 'Startzeit', 'Fertigstellungszeit']].head(2))"
   ]
  },
  {
   "cell_type": "markdown",
   "id": "9d426b9d",
   "metadata": {},
   "source": [
    "## 2. Data Quality Overview"
   ]
  },
  {
   "cell_type": "code",
   "execution_count": null,
   "id": "fbf37c04",
   "metadata": {},
   "outputs": [],
   "source": [
    "print(\"Data Types Overview:\")\n",
    "print(f\"Total columns: {len(df.columns)}\")\n",
    "print(f\"Text columns: {df.select_dtypes(include=['object']).shape[1]}\")\n",
    "print(f\"Numeric columns: {df.select_dtypes(include=['int64', 'float64']).shape[1]}\")\n",
    "print(f\"DateTime columns: {df.select_dtypes(include=['datetime64']).shape[1]}\")"
   ]
  },
  {
   "cell_type": "code",
   "execution_count": null,
   "id": "68b81815",
   "metadata": {},
   "outputs": [],
   "source": [
    "# Check for missing values in key columns\n",
    "key_columns = ['ID', 'Name', 'Startzeit', 'Fertigstellungszeit']\n",
    "missing_key = df[key_columns].isnull().sum()\n",
    "print(\"Missing values in key columns:\")\n",
    "for col, missing in missing_key.items():\n",
    "    print(f\"{col}: {missing} ({missing/len(df)*100:.1f}%)\")"
   ]
  },
  {
   "cell_type": "code",
   "execution_count": null,
   "id": "83604c1a",
   "metadata": {},
   "outputs": [],
   "source": [
    "# Overall completion rate\n",
    "total_possible_answers = df.shape[0] * df.shape[1]\n",
    "total_missing = df.isnull().sum().sum()\n",
    "completion_rate = (total_possible_answers - total_missing) / total_possible_answers * 100\n",
    "print(f\"Overall Survey Completion Rate: {completion_rate:.1f}%\")\n",
    "print(f\"Total missing values: {total_missing} out of {total_possible_answers} possible answers\")"
   ]
  },
  {
   "cell_type": "markdown",
   "id": "d27ec920",
   "metadata": {},
   "source": [
    "## 3. Response Analysis"
   ]
  },
  {
   "cell_type": "markdown",
   "id": "a05ce728",
   "metadata": {},
   "source": [
    "### Survey Timeline"
   ]
  },
  {
   "cell_type": "code",
   "execution_count": null,
   "id": "5fdb5f5d",
   "metadata": {},
   "outputs": [],
   "source": [
    "# Convert time columns to datetime if they're not already\n",
    "if 'Startzeit' in df.columns:\n",
    "    df['Startzeit'] = pd.to_datetime(df['Startzeit'], errors='coerce')\n",
    "if 'Fertigstellungszeit' in df.columns:\n",
    "    df['Fertigstellungszeit'] = pd.to_datetime(df['Fertigstellungszeit'], errors='coerce')\n",
    "\n",
    "# Calculate completion time\n",
    "if 'Startzeit' in df.columns and 'Fertigstellungszeit' in df.columns:\n",
    "    df['completion_duration'] = (df['Fertigstellungszeit'] - df['Startzeit']).dt.total_seconds() / 60\n",
    "    \n",
    "    print(\"Survey Completion Statistics:\")\n",
    "    print(f\"Average completion time: {df['completion_duration'].mean():.1f} minutes\")\n",
    "    print(f\"Median completion time: {df['completion_duration'].median():.1f} minutes\")\n",
    "    print(f\"Fastest completion: {df['completion_duration'].min():.1f} minutes\")\n",
    "    print(f\"Slowest completion: {df['completion_duration'].max():.1f} minutes\")"
   ]
  },
  {
   "cell_type": "markdown",
   "id": "2cafe641",
   "metadata": {},
   "source": [
    "### Professional Background Analysis"
   ]
  },
  {
   "cell_type": "code",
   "execution_count": null,
   "id": "365ba5c8",
   "metadata": {},
   "outputs": [],
   "source": [
    "# Find role/position column (it has a long German name)\n",
    "role_col = None\n",
    "for col in df.columns:\n",
    "    if 'Rolle in der Praxis' in col:\n",
    "        role_col = col\n",
    "        break\n",
    "\n",
    "if role_col:\n",
    "    print(\"Roles mentioned in responses:\")\n",
    "    roles = df[role_col].dropna()\n",
    "    for i, role in enumerate(roles, 1):\n",
    "        print(f\"Response {i}: {role[:100]}{'...' if len(role) > 100 else ''}\")\n",
    "else:\n",
    "    print(\"Role column not found\")"
   ]
  },
  {
   "cell_type": "markdown",
   "id": "0b3c0da7",
   "metadata": {},
   "source": [
    "### Experience Analysis"
   ]
  },
  {
   "cell_type": "code",
   "execution_count": null,
   "id": "faac33a9",
   "metadata": {},
   "outputs": [],
   "source": [
    "# Find experience column\n",
    "experience_col = None\n",
    "for col in df.columns:\n",
    "    if 'Wie lange sind Sie' in col:\n",
    "        experience_col = col\n",
    "        break\n",
    "\n",
    "if experience_col:\n",
    "    print(\"Experience levels:\")\n",
    "    experiences = df[experience_col].dropna()\n",
    "    for i, exp in enumerate(experiences, 1):\n",
    "        print(f\"Response {i}: {exp}\")\n",
    "else:\n",
    "    print(\"Experience column not found\")"
   ]
  },
  {
   "cell_type": "markdown",
   "id": "5ce8c912",
   "metadata": {},
   "source": [
    "### Communication Channels Analysis"
   ]
  },
  {
   "cell_type": "code",
   "execution_count": null,
   "id": "c875964f",
   "metadata": {},
   "outputs": [],
   "source": [
    "# Find communication channels column\n",
    "comm_col = None\n",
    "for col in df.columns:\n",
    "    if 'Über welche Kanäle kontaktieren' in col:\n",
    "        comm_col = col\n",
    "        break\n",
    "\n",
    "if comm_col:\n",
    "    print(\"Communication channels used:\")\n",
    "    channels = df[comm_col].dropna()\n",
    "    for i, channel in enumerate(channels, 1):\n",
    "        print(f\"Response {i}: {channel}\")\n",
    "else:\n",
    "    print(\"Communication channels column not found\")"
   ]
  },
  {
   "cell_type": "markdown",
   "id": "bf1236e2",
   "metadata": {},
   "source": [
    "### Software Usage Analysis"
   ]
  },
  {
   "cell_type": "code",
   "execution_count": null,
   "id": "558ba910",
   "metadata": {},
   "outputs": [],
   "source": [
    "# Find software column\n",
    "software_col = None\n",
    "for col in df.columns:\n",
    "    if 'Praxisverwaltungssoftware' in col:\n",
    "        software_col = col\n",
    "        break\n",
    "\n",
    "if software_col:\n",
    "    print(\"Practice Management Software used:\")\n",
    "    software = df[software_col].dropna()\n",
    "    for i, sw in enumerate(software, 1):\n",
    "        print(f\"Response {i}: {sw}\")\n",
    "        \n",
    "    # Simple analysis of mentioned software\n",
    "    software_mentions = {}\n",
    "    for sw in software:\n",
    "        sw_lower = sw.lower()\n",
    "        if 'zawin' in sw_lower:\n",
    "            software_mentions['ZaWin'] = software_mentions.get('ZaWin', 0) + 1\n",
    "        elif 'charly' in sw_lower:\n",
    "            software_mentions['Charly'] = software_mentions.get('Charly', 0) + 1\n",
    "        elif 'evident' in sw_lower:\n",
    "            software_mentions['Evident'] = software_mentions.get('Evident', 0) + 1\n",
    "    \n",
    "    if software_mentions:\n",
    "        print(\"\\nSoftware usage summary:\")\n",
    "        for sw, count in software_mentions.items():\n",
    "            print(f\"{sw}: {count} mention(s)\")\n",
    "else:\n",
    "    print(\"Software column not found\")"
   ]
  },
  {
   "cell_type": "markdown",
   "id": "ef486019",
   "metadata": {},
   "source": [
    "## 4. Key Challenges and Pain Points"
   ]
  },
  {
   "cell_type": "code",
   "execution_count": null,
   "id": "2c56f2bb",
   "metadata": {},
   "outputs": [],
   "source": [
    "# Find the main challenges/pain points columns\n",
    "challenge_cols = []\n",
    "for col in df.columns:\n",
    "    if any(keyword in col.lower() for keyword in ['störfaktoren', 'herausforderungen', 'mühsam', 'zeitaufwendig']):\n",
    "        challenge_cols.append(col)\n",
    "\n",
    "print(f\"Found {len(challenge_cols)} columns related to challenges:\")\n",
    "for i, col in enumerate(challenge_cols, 1):\n",
    "    print(f\"{i}. {col[:80]}{'...' if len(col) > 80 else ''}\")\n",
    "    \n",
    "    # Show responses for this challenge\n",
    "    responses = df[col].dropna()\n",
    "    if len(responses) > 0:\n",
    "        print(\"   Responses:\")\n",
    "        for j, response in enumerate(responses, 1):\n",
    "            print(f\"   Response {j}: {response[:150]}{'...' if len(response) > 150 else ''}\")\n",
    "    print()"
   ]
  },
  {
   "cell_type": "markdown",
   "id": "3b3debd9",
   "metadata": {},
   "source": [
    "## 5. Digital Transformation Insights"
   ]
  },
  {
   "cell_type": "code",
   "execution_count": null,
   "id": "19f17447",
   "metadata": {},
   "outputs": [],
   "source": [
    "# Find digital transformation related columns\n",
    "digital_cols = []\n",
    "for col in df.columns:\n",
    "    if any(keyword in col.lower() for keyword in ['digital', 'online', 'automatisch', 'ki', 'assistent']):\n",
    "        digital_cols.append(col)\n",
    "\n",
    "print(f\"Found {len(digital_cols)} columns related to digital transformation:\")\n",
    "for i, col in enumerate(digital_cols, 1):\n",
    "    print(f\"{i}. {col[:80]}{'...' if len(col) > 80 else ''}\")\n",
    "    \n",
    "    # Show responses\n",
    "    responses = df[col].dropna()\n",
    "    if len(responses) > 0:\n",
    "        print(\"   Responses:\")\n",
    "        for j, response in enumerate(responses, 1):\n",
    "            print(f\"   Response {j}: {response[:150]}{'...' if len(response) > 150 else ''}\")\n",
    "    print()"
   ]
  }
 ],
 "metadata": {
  "language_info": {
   "name": "python"
  }
 },
 "nbformat": 4,
 "nbformat_minor": 5
}
