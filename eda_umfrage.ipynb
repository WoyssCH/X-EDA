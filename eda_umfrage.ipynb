{
 "cells": [
  {
   "cell_type": "markdown",
   "id": "638931a4",
   "metadata": {},
   "source": [
    "# Survey Exploratory Data Analysis Report\n",
    "\n",
    "This notebook performs an automated EDA on the `umfrage.xlsx` file containing survey responses from dental practice staff. All outputs are generated automatically via GitHub Actions."
   ]
  },
  {
   "cell_type": "code",
   "execution_count": 1,
   "id": "daccc2c7",
   "metadata": {
    "execution": {
     "iopub.execute_input": "2025-10-30T10:56:32.364911Z",
     "iopub.status.busy": "2025-10-30T10:56:32.364716Z",
     "iopub.status.idle": "2025-10-30T10:56:32.958443Z",
     "shell.execute_reply": "2025-10-30T10:56:32.957491Z"
    }
   },
   "outputs": [],
   "source": [
    "import pandas as pd\n",
    "import matplotlib.pyplot as plt\n",
    "import seaborn as sns\n",
    "import numpy as np\n",
    "from datetime import datetime\n",
    "\n",
    "# Set plot style\n",
    "sns.set_theme(style=\"whitegrid\")\n",
    "plt.rcParams['figure.figsize'] = (12, 8)"
   ]
  },
  {
   "cell_type": "markdown",
   "id": "14416d48",
   "metadata": {},
   "source": [
    "## 1. Load and Inspect Survey Data"
   ]
  },
  {
   "cell_type": "code",
   "execution_count": 2,
   "id": "df466a52",
   "metadata": {
    "execution": {
     "iopub.execute_input": "2025-10-30T10:56:32.960941Z",
     "iopub.status.busy": "2025-10-30T10:56:32.960671Z",
     "iopub.status.idle": "2025-10-30T10:56:33.068148Z",
     "shell.execute_reply": "2025-10-30T10:56:33.067208Z"
    }
   },
   "outputs": [
    {
     "name": "stdout",
     "output_type": "stream",
     "text": [
      "Survey Dataset Shape: 26 responses and 32 columns\n",
      "\n",
      "First 2 responses (basic info only):\n"
     ]
    },
    {
     "data": {
      "text/html": [
       "<div>\n",
       "<style scoped>\n",
       "    .dataframe tbody tr th:only-of-type {\n",
       "        vertical-align: middle;\n",
       "    }\n",
       "\n",
       "    .dataframe tbody tr th {\n",
       "        vertical-align: top;\n",
       "    }\n",
       "\n",
       "    .dataframe thead th {\n",
       "        text-align: right;\n",
       "    }\n",
       "</style>\n",
       "<table border=\"1\" class=\"dataframe\">\n",
       "  <thead>\n",
       "    <tr style=\"text-align: right;\">\n",
       "      <th></th>\n",
       "      <th>ID</th>\n",
       "      <th>Name</th>\n",
       "      <th>Startzeit</th>\n",
       "      <th>Fertigstellungszeit</th>\n",
       "    </tr>\n",
       "  </thead>\n",
       "  <tbody>\n",
       "    <tr>\n",
       "      <th>0</th>\n",
       "      <td>1</td>\n",
       "      <td>NaN</td>\n",
       "      <td>2025-10-23 14:33:46</td>\n",
       "      <td>2025-10-23 14:47:53</td>\n",
       "    </tr>\n",
       "    <tr>\n",
       "      <th>1</th>\n",
       "      <td>2</td>\n",
       "      <td>NaN</td>\n",
       "      <td>2025-10-23 15:09:21</td>\n",
       "      <td>2025-10-23 15:16:48</td>\n",
       "    </tr>\n",
       "  </tbody>\n",
       "</table>\n",
       "</div>"
      ],
      "text/plain": [
       "   ID  Name           Startzeit Fertigstellungszeit\n",
       "0   1   NaN 2025-10-23 14:33:46 2025-10-23 14:47:53\n",
       "1   2   NaN 2025-10-23 15:09:21 2025-10-23 15:16:48"
      ]
     },
     "metadata": {},
     "output_type": "display_data"
    }
   ],
   "source": [
    "# Load the survey data\n",
    "df = pd.read_excel('umfrage.xlsx')\n",
    "\n",
    "print(f\"Survey Dataset Shape: {df.shape[0]} responses and {df.shape[1]} columns\")\n",
    "print(\"\\nFirst 2 responses (basic info only):\")\n",
    "display(df[['ID', 'Name', 'Startzeit', 'Fertigstellungszeit']].head(2))"
   ]
  },
  {
   "cell_type": "markdown",
   "id": "9d426b9d",
   "metadata": {},
   "source": [
    "## 2. Data Quality Overview"
   ]
  },
  {
   "cell_type": "code",
   "execution_count": 3,
   "id": "fbf37c04",
   "metadata": {
    "execution": {
     "iopub.execute_input": "2025-10-30T10:56:33.070268Z",
     "iopub.status.busy": "2025-10-30T10:56:33.070077Z",
     "iopub.status.idle": "2025-10-30T10:56:33.074934Z",
     "shell.execute_reply": "2025-10-30T10:56:33.073994Z"
    }
   },
   "outputs": [
    {
     "name": "stdout",
     "output_type": "stream",
     "text": [
      "Data Types Overview:\n",
      "Total columns: 32\n",
      "Text columns: 27\n",
      "Numeric columns: 3\n",
      "DateTime columns: 2\n"
     ]
    }
   ],
   "source": [
    "print(\"Data Types Overview:\")\n",
    "print(f\"Total columns: {len(df.columns)}\")\n",
    "print(f\"Text columns: {df.select_dtypes(include=['object']).shape[1]}\")\n",
    "print(f\"Numeric columns: {df.select_dtypes(include=['int64', 'float64']).shape[1]}\")\n",
    "print(f\"DateTime columns: {df.select_dtypes(include=['datetime64']).shape[1]}\")"
   ]
  },
  {
   "cell_type": "code",
   "execution_count": 4,
   "id": "68b81815",
   "metadata": {
    "execution": {
     "iopub.execute_input": "2025-10-30T10:56:33.076759Z",
     "iopub.status.busy": "2025-10-30T10:56:33.076582Z",
     "iopub.status.idle": "2025-10-30T10:56:33.081463Z",
     "shell.execute_reply": "2025-10-30T10:56:33.080759Z"
    }
   },
   "outputs": [
    {
     "name": "stdout",
     "output_type": "stream",
     "text": [
      "Missing values in key columns:\n",
      "ID: 0 (0.0%)\n",
      "Name: 26 (100.0%)\n",
      "Startzeit: 0 (0.0%)\n",
      "Fertigstellungszeit: 0 (0.0%)\n"
     ]
    }
   ],
   "source": [
    "# Check for missing values in key columns\n",
    "key_columns = ['ID', 'Name', 'Startzeit', 'Fertigstellungszeit']\n",
    "missing_key = df[key_columns].isnull().sum()\n",
    "print(\"Missing values in key columns:\")\n",
    "for col, missing in missing_key.items():\n",
    "    print(f\"{col}: {missing} ({missing/len(df)*100:.1f}%)\")"
   ]
  },
  {
   "cell_type": "code",
   "execution_count": 5,
   "id": "83604c1a",
   "metadata": {
    "execution": {
     "iopub.execute_input": "2025-10-30T10:56:33.083511Z",
     "iopub.status.busy": "2025-10-30T10:56:33.083313Z",
     "iopub.status.idle": "2025-10-30T10:56:33.087895Z",
     "shell.execute_reply": "2025-10-30T10:56:33.086958Z"
    }
   },
   "outputs": [
    {
     "name": "stdout",
     "output_type": "stream",
     "text": [
      "Overall Survey Completion Rate: 92.8%\n",
      "Total missing values: 60 out of 832 possible answers\n"
     ]
    }
   ],
   "source": [
    "# Overall completion rate\n",
    "total_possible_answers = df.shape[0] * df.shape[1]\n",
    "total_missing = df.isnull().sum().sum()\n",
    "completion_rate = (total_possible_answers - total_missing) / total_possible_answers * 100\n",
    "print(f\"Overall Survey Completion Rate: {completion_rate:.1f}%\")\n",
    "print(f\"Total missing values: {total_missing} out of {total_possible_answers} possible answers\")"
   ]
  },
  {
   "cell_type": "markdown",
   "id": "d27ec920",
   "metadata": {},
   "source": [
    "## 3. Response Analysis"
   ]
  },
  {
   "cell_type": "markdown",
   "id": "a05ce728",
   "metadata": {},
   "source": [
    "### Survey Timeline"
   ]
  },
  {
   "cell_type": "code",
   "execution_count": 6,
   "id": "5fdb5f5d",
   "metadata": {
    "execution": {
     "iopub.execute_input": "2025-10-30T10:56:33.089754Z",
     "iopub.status.busy": "2025-10-30T10:56:33.089581Z",
     "iopub.status.idle": "2025-10-30T10:56:33.096591Z",
     "shell.execute_reply": "2025-10-30T10:56:33.095623Z"
    }
   },
   "outputs": [
    {
     "name": "stdout",
     "output_type": "stream",
     "text": [
      "Survey Completion Statistics:\n",
      "Average completion time: 58.2 minutes\n",
      "Median completion time: 29.2 minutes\n",
      "Fastest completion: 7.5 minutes\n",
      "Slowest completion: 387.2 minutes\n"
     ]
    }
   ],
   "source": [
    "# Convert time columns to datetime if they're not already\n",
    "if 'Startzeit' in df.columns:\n",
    "    df['Startzeit'] = pd.to_datetime(df['Startzeit'], errors='coerce')\n",
    "if 'Fertigstellungszeit' in df.columns:\n",
    "    df['Fertigstellungszeit'] = pd.to_datetime(df['Fertigstellungszeit'], errors='coerce')\n",
    "\n",
    "# Calculate completion time\n",
    "if 'Startzeit' in df.columns and 'Fertigstellungszeit' in df.columns:\n",
    "    df['completion_duration'] = (df['Fertigstellungszeit'] - df['Startzeit']).dt.total_seconds() / 60\n",
    "    \n",
    "    print(\"Survey Completion Statistics:\")\n",
    "    print(f\"Average completion time: {df['completion_duration'].mean():.1f} minutes\")\n",
    "    print(f\"Median completion time: {df['completion_duration'].median():.1f} minutes\")\n",
    "    print(f\"Fastest completion: {df['completion_duration'].min():.1f} minutes\")\n",
    "    print(f\"Slowest completion: {df['completion_duration'].max():.1f} minutes\")"
   ]
  },
  {
   "cell_type": "markdown",
   "id": "2cafe641",
   "metadata": {},
   "source": [
    "### Professional Background Analysis"
   ]
  },
  {
   "cell_type": "code",
   "execution_count": 7,
   "id": "365ba5c8",
   "metadata": {
    "execution": {
     "iopub.execute_input": "2025-10-30T10:56:33.098576Z",
     "iopub.status.busy": "2025-10-30T10:56:33.098361Z",
     "iopub.status.idle": "2025-10-30T10:56:33.103172Z",
     "shell.execute_reply": "2025-10-30T10:56:33.102389Z"
    }
   },
   "outputs": [
    {
     "name": "stdout",
     "output_type": "stream",
     "text": [
      "Roles mentioned in responses:\n",
      "Response 1: Zahnaerztin mit diverse adm Aufgaben\n",
      "Response 2: Oralchirurgin / Zahnärztin; Praxisinhaberin\n",
      "Response 3: Zahnärztin\n",
      "Response 4: Dentalsekretärin, Administration und Dentalassistentin, wo es mich gerade braucht\n",
      "Response 5: Ich arbeite als Praxiskoordinatorin und bin für die Terminvergabe, Kreditoren, Debitoren und Persona...\n",
      "Response 6: Praxisinhaberin, Zahnärztin\n",
      "Response 7: Praxisinhaberin, Patientenbehandlung, Planung, Personalmanagment, alle administrativen Aufgaben des ...\n",
      "Response 8: Praxisadministratorin.\n",
      "Administrative Arbeiten inkl. dem Tagesablauf  managen\n",
      "Response 9: Zahnarzt , Einzelpraxis\n",
      "Response 10: Praxismanagerin\n",
      "Telefonate, Terminvergabe, Korrespondenz mit Versicherungen etc., Rechnungs- und Mah...\n",
      "Response 11: Administration, Buchhaltung, Personalwesen\n",
      "Response 12: Empfang und Labor\n",
      "Response 13: Praxisinhaber\n",
      "Response 14: Zahnarzt und Eigentümer der Praxus\n",
      "Zahnmedizin\n",
      "Response 15: Zahnarzt in eigener Praxis tätig. \n",
      "Behandlung von Patienten, Personalmanagement, Umsetzung von Vorga...\n",
      "Response 16: Zahnarzt und Inhaber\n",
      "Response 17: Chef, alles\n",
      "Response 18: Zahnarzt, Personalchef, Geschäftsführer und Inhaber\n",
      "Response 19: Praxisinhaber\n",
      "Response 20: Besitzer und Chef\n",
      "Response 21: Praxismanagerin\n",
      "Response 22: Ich bin leitende Dentalassistentin \n",
      "Response 23: Zahnarzt , Einzelpaxis, Chef.\n",
      "Zuständig für fast alles - was nicht abdelegiert ist. \n",
      "Response 24: Zahnarzt/Geschäftsführer\n",
      "Response 25: Praxisinhaber und in allen Bereichen der Zahnmedizin (ausser Kieferorthopädie) tätig. \n",
      "Response 26: Geschäftsleitung, Finanzen & Controlling, HR & Organisationsentwicklung, IT & Technik, Qualitätsmana...\n"
     ]
    }
   ],
   "source": [
    "# Find role/position column (it has a long German name)\n",
    "role_col = None\n",
    "for col in df.columns:\n",
    "    if 'Rolle in der Praxis' in col:\n",
    "        role_col = col\n",
    "        break\n",
    "\n",
    "if role_col:\n",
    "    print(\"Roles mentioned in responses:\")\n",
    "    roles = df[role_col].dropna()\n",
    "    for i, role in enumerate(roles, 1):\n",
    "        print(f\"Response {i}: {role[:100]}{'...' if len(role) > 100 else ''}\")\n",
    "else:\n",
    "    print(\"Role column not found\")"
   ]
  },
  {
   "cell_type": "markdown",
   "id": "0b3c0da7",
   "metadata": {},
   "source": [
    "### Experience Analysis"
   ]
  },
  {
   "cell_type": "code",
   "execution_count": 8,
   "id": "faac33a9",
   "metadata": {
    "execution": {
     "iopub.execute_input": "2025-10-30T10:56:33.105135Z",
     "iopub.status.busy": "2025-10-30T10:56:33.104956Z",
     "iopub.status.idle": "2025-10-30T10:56:33.109740Z",
     "shell.execute_reply": "2025-10-30T10:56:33.108824Z"
    }
   },
   "outputs": [
    {
     "name": "stdout",
     "output_type": "stream",
     "text": [
      "Experience levels:\n",
      "Response 1: > 5 Jahre\n",
      "Response 2: > 5 Jahre\n",
      "Response 3: > 5 Jahre\n",
      "Response 4: > 5 Jahre\n",
      "Response 5: > 5 Jahre\n",
      "Response 6: < 5 Jahre\n",
      "Response 7: > 5 Jahre\n",
      "Response 8: > 5 Jahre\n",
      "Response 9: > 5 Jahre\n",
      "Response 10: > 5 Jahre\n",
      "Response 11: > 5 Jahre\n",
      "Response 12: > 5 Jahre\n",
      "Response 13: > 5 Jahre\n",
      "Response 14: > 5 Jahre\n",
      "Response 15: > 5 Jahre\n",
      "Response 16: > 5 Jahre\n",
      "Response 17: > 5 Jahre\n",
      "Response 18: > 5 Jahre\n",
      "Response 19: > 5 Jahre\n",
      "Response 20: > 5 Jahre\n",
      "Response 21: < 5 Jahre\n",
      "Response 22: < 5 Jahre\n",
      "Response 23: > 5 Jahre\n",
      "Response 24: > 5 Jahre\n",
      "Response 25: > 5 Jahre\n",
      "Response 26: > 5 Jahre\n"
     ]
    }
   ],
   "source": [
    "# Find experience column\n",
    "experience_col = None\n",
    "for col in df.columns:\n",
    "    if 'Wie lange sind Sie' in col:\n",
    "        experience_col = col\n",
    "        break\n",
    "\n",
    "if experience_col:\n",
    "    print(\"Experience levels:\")\n",
    "    experiences = df[experience_col].dropna()\n",
    "    for i, exp in enumerate(experiences, 1):\n",
    "        print(f\"Response {i}: {exp}\")\n",
    "else:\n",
    "    print(\"Experience column not found\")"
   ]
  },
  {
   "cell_type": "markdown",
   "id": "5ce8c912",
   "metadata": {},
   "source": [
    "### Communication Channels Analysis"
   ]
  },
  {
   "cell_type": "code",
   "execution_count": 9,
   "id": "c875964f",
   "metadata": {
    "execution": {
     "iopub.execute_input": "2025-10-30T10:56:33.111596Z",
     "iopub.status.busy": "2025-10-30T10:56:33.111415Z",
     "iopub.status.idle": "2025-10-30T10:56:33.116052Z",
     "shell.execute_reply": "2025-10-30T10:56:33.115041Z"
    }
   },
   "outputs": [
    {
     "name": "stdout",
     "output_type": "stream",
     "text": [
      "Communication channels used:\n",
      "Response 1: Online Formular;Telefon;Persönlich vor Ort;Email;\n",
      "Response 2: Email;Telefon;\n",
      "Response 3: Telefon;Persönlich vor Ort;\n",
      "Response 4: Telefon;Email;Online Formular;\n",
      "Response 5: Telefon;Email;Online Formular;\n",
      "Response 6: Telefon;Email;Persönlich vor Ort;\n",
      "Response 7: Email;Persönlich vor Ort;Telefon;\n",
      "Response 8: Telefon;Email;Persönlich vor Ort;Messanger Dienste wie What's App, Telegram etc.;\n",
      "Response 9: Telefon;Email;\n",
      "Response 10: Telefon;Email;Persönlich vor Ort;\n",
      "Response 11: Telefon;Email;Persönlich vor Ort;SMS zur Erinnerung;\n",
      "Response 12: Telefon;\n",
      "Response 13: Telefon;Email;Persönlich vor Ort;\n",
      "Response 14: Telefon;Persönlich vor Ort;\n",
      "Response 15: Telefon;Email;Persönlich vor Ort;\n",
      "Response 16: Telefon;Email;\n",
      "Response 17: Telefon;Email;Persönlich vor Ort;\n",
      "Response 18: Email;Telefon;Persönlich vor Ort;\n",
      "Response 19: Telefon;Email;\n",
      "Response 20: Telefon;Briefpost;\n",
      "Response 21: Telefon;Email;\n",
      "Response 22: Telefon;Email;\n",
      "Response 23: Telefon;Email;\n",
      "Response 24: Telefon;Email;\n",
      "Response 25: Telefon;Email;Messanger Dienste wie What's App, Telegram etc.;\n",
      "Response 26: Persönlich vor Ort;Email;Telefon;\n"
     ]
    }
   ],
   "source": [
    "# Find communication channels column\n",
    "comm_col = None\n",
    "for col in df.columns:\n",
    "    if 'Über welche Kanäle kontaktieren' in col:\n",
    "        comm_col = col\n",
    "        break\n",
    "\n",
    "if comm_col:\n",
    "    print(\"Communication channels used:\")\n",
    "    channels = df[comm_col].dropna()\n",
    "    for i, channel in enumerate(channels, 1):\n",
    "        print(f\"Response {i}: {channel}\")\n",
    "else:\n",
    "    print(\"Communication channels column not found\")"
   ]
  },
  {
   "cell_type": "markdown",
   "id": "bf1236e2",
   "metadata": {},
   "source": [
    "### Software Usage Analysis"
   ]
  },
  {
   "cell_type": "code",
   "execution_count": 10,
   "id": "558ba910",
   "metadata": {
    "execution": {
     "iopub.execute_input": "2025-10-30T10:56:33.117985Z",
     "iopub.status.busy": "2025-10-30T10:56:33.117796Z",
     "iopub.status.idle": "2025-10-30T10:56:33.124026Z",
     "shell.execute_reply": "2025-10-30T10:56:33.123060Z"
    }
   },
   "outputs": [
    {
     "name": "stdout",
     "output_type": "stream",
     "text": [
      "Practice Management Software used:\n",
      "Response 1: ZaWin\n",
      "Response 2: ZaWin\n",
      "Response 3: ZaWIn\n",
      "Response 4: Aeskulap Kern Concept\n",
      "Response 5: ErgoDent\n",
      "Response 6: ZaWin\n",
      "Response 7: ZaWin\n",
      "Response 8: Ergodent, Sidexis\n",
      "Response 9: Zawin\n",
      "Response 10: ZaWin\n",
      "Response 11: Ergodent von CCS\n",
      "Response 12: Dentalmed XP\n",
      "Response 13: ZaWin\n",
      "Response 14: Dental med XP\n",
      "Response 15: Dent II \n",
      "Response 16: aeskulap\n",
      "Response 17: ProzessTeam\n",
      "Response 18: ZaWin\n",
      "Response 19: -\n",
      "Response 20: Keine\n",
      "Response 21: Zawin\n",
      "Response 22: ZaWin\n",
      "Response 23: Kern Concept - Aeskulap\n",
      "Response 24: Dental med XP\n",
      "Response 25: ZaWin\n",
      "Response 26: ZaWin\n",
      "\n",
      "Software usage summary:\n",
      "ZaWin: 13 mention(s)\n"
     ]
    }
   ],
   "source": [
    "# Find software column\n",
    "software_col = None\n",
    "for col in df.columns:\n",
    "    if 'Praxisverwaltungssoftware' in col:\n",
    "        software_col = col\n",
    "        break\n",
    "\n",
    "if software_col:\n",
    "    print(\"Practice Management Software used:\")\n",
    "    software = df[software_col].dropna()\n",
    "    for i, sw in enumerate(software, 1):\n",
    "        print(f\"Response {i}: {sw}\")\n",
    "        \n",
    "    # Simple analysis of mentioned software\n",
    "    software_mentions = {}\n",
    "    for sw in software:\n",
    "        sw_lower = sw.lower()\n",
    "        if 'zawin' in sw_lower:\n",
    "            software_mentions['ZaWin'] = software_mentions.get('ZaWin', 0) + 1\n",
    "        elif 'charly' in sw_lower:\n",
    "            software_mentions['Charly'] = software_mentions.get('Charly', 0) + 1\n",
    "        elif 'evident' in sw_lower:\n",
    "            software_mentions['Evident'] = software_mentions.get('Evident', 0) + 1\n",
    "    \n",
    "    if software_mentions:\n",
    "        print(\"\\nSoftware usage summary:\")\n",
    "        for sw, count in software_mentions.items():\n",
    "            print(f\"{sw}: {count} mention(s)\")\n",
    "else:\n",
    "    print(\"Software column not found\")"
   ]
  },
  {
   "cell_type": "markdown",
   "id": "ef486019",
   "metadata": {},
   "source": [
    "## 4. Key Challenges and Pain Points"
   ]
  },
  {
   "cell_type": "code",
   "execution_count": 11,
   "id": "2c56f2bb",
   "metadata": {
    "execution": {
     "iopub.execute_input": "2025-10-30T10:56:33.125830Z",
     "iopub.status.busy": "2025-10-30T10:56:33.125653Z",
     "iopub.status.idle": "2025-10-30T10:56:33.131890Z",
     "shell.execute_reply": "2025-10-30T10:56:33.130895Z"
    }
   },
   "outputs": [
    {
     "name": "stdout",
     "output_type": "stream",
     "text": [
      "Found 3 columns related to challenges:\n",
      "1. Was sind die grössten \"Störfaktoren\" oder Unterbrechungen bei Ihrer täglichen ad...\n",
      "   Responses:\n",
      "   Response 1: Die Aufgaben und Fragen die nur ich antworten kann\n",
      "   Response 2: Qualitätsmangement, Versicherungsanfragen\n",
      "   Response 3: das Personal\n",
      "   Response 4: Telefon, neuer Termin vergeben\n",
      "   Response 5: Personal, wo Fragen hat, Vorgesetzte die sonst noch Wünsche oder Probleme haben. Patienten die ganze Planung ändern möchten. \n",
      "   Response 6: Nächster Patient, Rückfragen von Mitarbeitern\n",
      "   Response 7: Die administrative Arbeit wird zwischen den Patientenbehandlungen oder Abends oder am Wochenende erledigt, es ist kein \"Bürotag\" bestimmt. Dadurch gib...\n",
      "   Response 8: MA kommen ständig was fragen, Telefone, Patientenanfragen vor Ort, Krankmeldungen, neue Planungen etc..\n",
      "   Response 9: Telefon, Patientennotfall\n",
      "   Response 10: Telefonate und Terminvergabe gleichzeitig, oder man hat einen recht anspruchsvollen Antrag an die Versicherung zu schreiben und es kommt zu Unterbrech...\n",
      "   Response 11: Unterbruch durch Telefon oder Terminvereinbarung, Patienten empfangen, Empfang ist sehr verzettelt, je nach Patientenaufkommen\n",
      "   Response 12: Telefon\n",
      "   Response 13: -\n",
      "   Response 14: Verschiedene Tarife\n",
      "Kostenvoranschläge für Ergänzungsleistung und Versicherungen\n",
      "   Response 15: Telefonische Anfragen von Kollegen, Patienten, Spitälern \n",
      "   Response 16: Telefonate, Zwischenfragen von Personal\n",
      "   Response 17: Versicherungsfälle\n",
      "   Response 18: Nur kurze Zeit zwischen jeweils zwei Patienten; somit grössere administrative Arbeiten nur morgens, mittags oder abends ind en \"Patientenpausen\" mögli...\n",
      "   Response 19: Patient will nach der Behandlung quatschen und braucht einen Psychoanalytiker \n",
      "   Response 20: Das sind keine Störfaktoren, dies ist Privatwirtschaft und wir sind ein Servicebetrieb. Nur öffentlich oder Versicherung können sich leisten Kunden zu...\n",
      "   Response 21: Telefon, Zimmerdesinfektion, administrativer Aufwand (KK, EL)\n",
      "   Response 22: Wenn ich davon weg gerufen werde oder Telefon anrufe.\n",
      "   Response 23: Patienten... :-)\n",
      "Internet - einfach abgelenkt\n",
      "   Response 24: Behandlung am Patient, Notfälle die zwischen den regulären Patienten behandelt werden müssen \n",
      "   Response 25: Genau: das Telefon klingelt, während man eine komplexe Abrechnung erstellt. \n",
      "   Response 26: Telefon, Personalanliegen und Sachfragen.\n",
      "\n",
      "2. Welche administrativen Aufgaben ausserhalb der direkten Patienteninteraktion emp...\n",
      "   Responses:\n",
      "   Response 1: Korrespondenz mit Krankenkassen / Versicherungen;Erstellung von Heil- und Kostenplänen;Dokumentation und Ablage;\n",
      "   Response 2: Korrespondenz mit Krankenkassen / Versicherungen;Erstellung von Heil- und Kostenplänen;Dokumentation und Ablage;\n",
      "   Response 3: Korrespondenz mit Krankenkassen / Versicherungen;Dokumentation und Ablage;\n",
      "   Response 4: Korrespondenz mit Krankenkassen / Versicherungen;Erstellung von Heil- und Kostenplänen;\n",
      "   Response 5: Korrespondenz mit Krankenkassen / Versicherungen;\n",
      "   Response 6: Korrespondenz mit Krankenkassen / Versicherungen;Erstellung von Heil- und Kostenplänen;\n",
      "   Response 7: Korrespondenz mit Krankenkassen / Versicherungen;Dokumentation und Ablage;Abrechnung mit Patienten;\n",
      "   Response 8: Korrespondenz mit Krankenkassen / Versicherungen;mit Ämter ist es am mühsamsten ;\n",
      "   Response 9: Korrespondenz mit Krankenkassen / Versicherungen;Erstellung von Heil- und Kostenplänen;\n",
      "   Response 10: Korrespondenz mit Krankenkassen / Versicherungen;Dokumentation und Ablage;\n",
      "   Response 11: Korrespondenz mit Krankenkassen / Versicherungen;Materialbestellungen und Lagerverwaltung;\n",
      "   Response 12: Korrespondenz mit Krankenkassen / Versicherungen;Materialbestellungen und Lagerverwaltung;\n",
      "   Response 13: Korrespondenz mit Krankenkassen / Versicherungen;Dokumentation und Ablage;QSS-Anpassungen;\n",
      "   Response 14: Korrespondenz mit Krankenkassen / Versicherungen;Dokumentation und Ablage;\n",
      "   Response 15: Korrespondenz mit Krankenkassen / Versicherungen;\n",
      "   Response 16: Korrespondenz mit Krankenkassen / Versicherungen;Dokumentation und Ablage;\n",
      "   Response 17: Korrespondenz mit Krankenkassen / Versicherungen;QSS;\n",
      "   Response 18: Korrespondenz mit Krankenkassen / Versicherungen;Korrespondenz mit Behörden (Sozialhilfe und EL);\n",
      "   Response 19: keine, gibt es bei mir nicht;\n",
      "   Response 20: Korrespondenz mit Krankenkassen / Versicherungen;Erstellung von Heil- und Kostenplänen;\n",
      "   Response 21: Korrespondenz mit Krankenkassen / Versicherungen;\n",
      "   Response 22: Korrespondenz mit Krankenkassen / Versicherungen;Erstellung von Heil- und Kostenplänen;\n",
      "   Response 23: Erstellung von Heil- und Kostenplänen;Korrespondenz mit Krankenkassen / Versicherungen;\n",
      "   Response 24: Korrespondenz mit Krankenkassen / Versicherungen;Dokumentation und Ablage;\n",
      "   Response 25: Korrespondenz mit Krankenkassen / Versicherungen;Materialbestellungen und Lagerverwaltung;\n",
      "   Response 26: Abrechnung mit Patienten;Korrespondenz mit Krankenkassen / Versicherungen;Materialbestellungen und Lagerverwaltung;\n",
      "\n",
      "3. Gibt es noch etwas Wichtiges zu Ihren administrativen Herausforderungen, das wir...\n",
      "   Responses:\n",
      "   Response 1: -\n",
      "   Response 2: es wird immer schlimmer und immer peinlicher , was wir alles machen müssen . Es ist nur noch mühsam ..  weniger \n",
      "   Response 3: Nein\n",
      "   Response 4: -\n",
      "   Response 5: Nein\n",
      "   Response 6: Nein\n",
      "   Response 7: Nein\n",
      "   Response 8: x\n",
      "   Response 9: nein\n",
      "   Response 10: -\n",
      "   Response 11: -\n",
      "   Response 12: nein\n",
      "   Response 13: Wenn die Größen der Praxen zunehmen und die Anforderungen weiter steigen benötigt es eine Fachkraft speziell für die Rezeption\n",
      "   Response 14: -\n",
      "   Response 15: -\n",
      "   Response 16: Nein\n",
      "   Response 17: Krankenkassen akzeptieren neuen TP-Wert nicht = Mehraufwand\n",
      "   Response 18: nein\n",
      "   Response 19: Jede Software hat Vor und Nachteile. Uebung macht den Meister. Mit wenig Versicherungskontakt zB. ist es immer von neuem Mühsam. Das liegt oft an der ...\n",
      "   Response 20: Das Einrichten eines (digitalen) QSS und Einhaltung aller Datenschutzrichtlinien wird uns zukünftig beschäftigen.\n",
      "   Response 21: Nein.\n",
      "\n"
     ]
    }
   ],
   "source": [
    "# Find the main challenges/pain points columns\n",
    "challenge_cols = []\n",
    "for col in df.columns:\n",
    "    if any(keyword in col.lower() for keyword in ['störfaktoren', 'herausforderungen', 'mühsam', 'zeitaufwendig']):\n",
    "        challenge_cols.append(col)\n",
    "\n",
    "print(f\"Found {len(challenge_cols)} columns related to challenges:\")\n",
    "for i, col in enumerate(challenge_cols, 1):\n",
    "    print(f\"{i}. {col[:80]}{'...' if len(col) > 80 else ''}\")\n",
    "    \n",
    "    # Show responses for this challenge\n",
    "    responses = df[col].dropna()\n",
    "    if len(responses) > 0:\n",
    "        print(\"   Responses:\")\n",
    "        for j, response in enumerate(responses, 1):\n",
    "            print(f\"   Response {j}: {response[:150]}{'...' if len(response) > 150 else ''}\")\n",
    "    print()"
   ]
  },
  {
   "cell_type": "markdown",
   "id": "3b3debd9",
   "metadata": {},
   "source": [
    "## 5. Digital Transformation Insights"
   ]
  },
  {
   "cell_type": "code",
   "execution_count": 12,
   "id": "19f17447",
   "metadata": {
    "execution": {
     "iopub.execute_input": "2025-10-30T10:56:33.133812Z",
     "iopub.status.busy": "2025-10-30T10:56:33.133635Z",
     "iopub.status.idle": "2025-10-30T10:56:33.140300Z",
     "shell.execute_reply": "2025-10-30T10:56:33.139345Z"
    }
   },
   "outputs": [
    {
     "name": "stdout",
     "output_type": "stream",
     "text": [
      "Found 4 columns related to digital transformation:\n",
      "1. Welche anderen digitalen Tools oder Programme nutzen Sie regelmässig im administ...\n",
      "   Responses:\n",
      "   Response 1: BESR\n",
      "   Response 2: Trios, Rö-Software Orange\n",
      "   Response 3: alle die wir benötigen \n",
      "   Response 4: Mediport, Byzz\n",
      "   Response 5: Outlook, Swisstransfer, Condent\n",
      "   Response 6: Digitale Anamnese am Tablet, Scanner der Sterilisationsetiketten, Nostic, Onlineagenda, Materialbestellung Novadent\n",
      "   Response 7: Excel, Word, Acrobat, OnyxCeph, Sidexis, Outlook\n",
      "   Response 8: Anyguard, Diagnokat, Nostic, Q.Wiki\n",
      "   Response 9: Digit. Röntgen, Cerec\n",
      "   Response 10: Romexis (Röntgenprogramm)\n",
      "Onyx Ceph (Auswertungsprogramm von Röntgen und Modellen)\n",
      "Outlook\n",
      "   Response 11: Abaweb, MedMonitor, Sidexis, DS Core\n",
      "   Response 12: dig. RX-Programm von Curaden\n",
      "   Response 13: Sidexis /Outlook/ Office-Produkte\n",
      "   Response 14: Excel, Word\n",
      "   Response 15: Windows, Carestream CS, Mailprogramme, Abrechnungsprogramme (Mediport)\n",
      "   Response 16: Diagnocat\n",
      "   Response 17: viele... SMOP; iDixel, SOPRO, alles von Apple\n",
      "   Response 18: Outlook, Word, Excel\n",
      "   Response 19: Scanner\n",
      "   Response 20: PC\n",
      "   Response 21: Rx-Programme (Onyx, Romexis)\n",
      "   Response 22: keine\n",
      "   Response 23: Outlook Agenda und Mail sowie Mail HIN\n",
      "Digora , Sidexis, Intraoral Scanner 3Shape\n",
      "   Response 24: -\n",
      "   Response 25: Microsoft OneNote (\"white-board\"), Tablets: Anamnese elektronisch ausfüllen und signieren, Validierung der Sterilisationsvorgänge. \n",
      "DS Core-Plattform:...\n",
      "   Response 26: MedMonitor (QSS), Zeiterfassung (Portos), Schichtverwaltung (Schichty), SecureSafe, E-Banking.\n",
      "\n",
      "2. Wo sehen Sie persönlich den grössten Mehrwert für digitale Unterstützung, der Ih...\n",
      "   Responses:\n",
      "   Response 1: Zeitgewinnung\n",
      "   Response 2: -\n",
      "   Response 3: wie arbeiten klinisch am Patienten, da hilft uns das Digitale gar nichts..   und wenn was nicht geht, sind es  sehr oft das digitale und die PCs\n",
      "   Response 4: Digital ist alles gut und recht, aber leider gibt es sehr vieles was man persönlich erledigen muss\n",
      "   Response 5: Die Kommunikation mit den Versicherungen ist wirklich lästig und zeitaufwändig. Es sollte eine direkte Nummer geben für Ärzte und Zahnärzte\n",
      "   Response 6: QSS Listen\n",
      "   Response 7: Automatisierte QSS\n",
      "   Response 8: Telefonie, Korrespondenz durch KI\n",
      "   Response 9: Automat. Kostenvoranschlag und Sozialformular ausfüllen\n",
      "   Response 10: -\n",
      "   Response 11: weiss nicht\n",
      "   Response 12: nicht wirklich realistisch\n",
      "   Response 13: -\n",
      "   Response 14: -\n",
      "   Response 15: weniger Digitalität\n",
      "   Response 16: Wenn die Softwareunternehmen gut vernetzt sind und alle Aktivitäten kombiniert werden können ohne dass wie manchmal noch notwendig zweigleisig gefahre...\n",
      "   Response 17: es gibt QSS-unterstützende Programme, die aber sehr teuer sind und Micromanagement bringen\n",
      "   Response 18: Ich denke, ich bin schon sehr \"digital\" am arbeiten. Schlussendlich braucht es aber den Menschen, der den Patienten mit seinen Bedürfnissen und Wünsch...\n",
      "   Response 19: Zeitersprnis bei Befundung mit KI\n",
      "   Response 20: In einer Solopraxis bringt digitale Unterstützung nur Mehrarbeit und niedrigeren Stundenumsatz.\n",
      "   Response 21: gut funktionierende Online-Agenda\n",
      "   Response 22: keinen, im Gegenteil es erschwert einiges.\n",
      "   Response 23: Für mich: DAs was ich habe:\n",
      "Agenda, Abrechnung und Patienten Software mit KoVo, Digitales Rx und Scan. \n",
      "Digitale KG macht mich nicht schneller nur ärm...\n",
      "   Response 24: automatische Text-Eingabe \n",
      "   Response 25: Digitales Röntgen: Befundung digital. Zukünftig per KI. \n",
      "   Response 26: Nicht klar ersichtlich.\n",
      "\n",
      "3. Bemerken Sie eine steigende Nachfrage nach digitalen Kontaktmöglichkeiten (z.B. ...\n",
      "   Responses:\n",
      "   Response 1: Ja, deutlich\n",
      "   Response 2: Ja, ein wenig\n",
      "   Response 3: Nein, nicht wirklich\n",
      "   Response 4: Nein, nicht wirklich\n",
      "   Response 5: Ja, deutlich\n",
      "   Response 6: Ja, ein wenig\n",
      "   Response 7: Ja, ein wenig\n",
      "   Response 8: Ja, deutlich\n",
      "   Response 9: Ja, ein wenig\n",
      "   Response 10: Ja, ein wenig\n",
      "   Response 11: Ja, deutlich\n",
      "   Response 12: Ja, ein wenig\n",
      "   Response 13: Nein, nicht wirklich\n",
      "   Response 14: Nein, nicht wirklich\n",
      "   Response 15: Nein, nicht wirklich\n",
      "   Response 16: Nein, nicht wirklich\n",
      "   Response 17: Nein, nicht wirklich\n",
      "   Response 18: Ja, ein wenig\n",
      "   Response 19: Nein, nicht wirklich\n",
      "   Response 20: Nein, nicht wirklich\n",
      "   Response 21: Ja, ein wenig\n",
      "   Response 22: Ja, deutlich\n",
      "   Response 23: Nein, nicht wirklich\n",
      "   Response 24: Nein, nicht wirklich\n",
      "   Response 25: Nein, nicht wirklich\n",
      "   Response 26: Ja, deutlich\n",
      "\n",
      "4. Die magische Assistenz: Stellen Sie sich vor, Sie hätten einen perfekten digital...\n",
      "   Responses:\n",
      "   Response 1: Recallwesen, E-mail verwaltung, Agenda\n",
      "   Response 2: Spracheingabe (Krankengeschichte), Spracheingabe Abrechnung, Dokumentation im allgemeinen\n",
      "   Response 3: ich will keinen digitalen Assistenten \n",
      "   Response 4: Überweisungen schreiben anhand von 3 Stichworten\n",
      "   Response 5: Gesamte Korrespondenz und Abklärungen mit Versicherungen\n",
      "   Response 6: Abrechnung und Kommunikation mit Versicherungen, Mails beantworten, Mahnwesen\n",
      "   Response 7: Terminvergabe, Rechnungswesen mit Mahnungen und Betreibungen, KG-Einträge machen\n",
      "   Response 8: Telefonie reicht schon\n",
      "   Response 9: Administration, Automatischer Recalldienst, \n",
      "   Response 10: - Abwicklung der Telefonate\n",
      "   Response 11: Terminvereinbarungen und -änderungen automatisch\n",
      "   Response 12: autom. Rechnung zu schreiben :)\n",
      "   Response 13: Ersatz der Dentalassistentin\n",
      "   Response 14: Kostenvoranschläge für Ergänzungsleistung \n",
      "   Response 15: Wichtiges von Unwichtigem unterscheiden\n",
      "   Response 16: perfekte Terminierung, freundliche Bedienung auch unfreundlicher Kunden, immer erreichbar\n",
      "   Response 17: QSS Hygiene\n",
      "Korrespondenz mit Versicherungen\n",
      "Planungen\n",
      "   Response 18: QA, alle Korrespondenz, IT/EDV-Probleme lösen\n",
      "   Response 19: wir haben alles...\n",
      "   Response 20: Caffè zu machen\n",
      "   Response 21: Terminvergabe \n",
      "   Response 22: nörgelnde Patienten zu beruhigen, ansonsten keine\n",
      "   Response 23: Umfragen beantworten... :-)\n",
      "vgl Frage 25!\n",
      "Abrechnung mit Behörden inkl Kostenvoranschläge etc. und Begleitbriefe etc. etc, Rücküberweisungen automatis...\n",
      "   Response 24: Grober KG-Eintrag, Vorbereitung von Formularen, Rezepte  \n",
      "   Response 25: Behandlungsplanung (inkl. KV-Erstellung), Recall (per Mail und Telefonat), Inventarliste (inkl. Nachbestellung)\n",
      "   Response 26: 1. Erledigung der Dokumentationspflicht (siehe 25.)\n",
      "2. Systemunterstützte Materialbestellung\n",
      "3. E-Mailbearbeitung\n",
      "\n"
     ]
    }
   ],
   "source": [
    "# Find digital transformation related columns\n",
    "digital_cols = []\n",
    "for col in df.columns:\n",
    "    if any(keyword in col.lower() for keyword in ['digital', 'online', 'automatisch', 'ki', 'assistent']):\n",
    "        digital_cols.append(col)\n",
    "\n",
    "print(f\"Found {len(digital_cols)} columns related to digital transformation:\")\n",
    "for i, col in enumerate(digital_cols, 1):\n",
    "    print(f\"{i}. {col[:80]}{'...' if len(col) > 80 else ''}\")\n",
    "    \n",
    "    # Show responses\n",
    "    responses = df[col].dropna()\n",
    "    if len(responses) > 0:\n",
    "        print(\"   Responses:\")\n",
    "        for j, response in enumerate(responses, 1):\n",
    "            print(f\"   Response {j}: {response[:150]}{'...' if len(response) > 150 else ''}\")\n",
    "    print()"
   ]
  }
 ],
 "metadata": {
  "language_info": {
   "codemirror_mode": {
    "name": "ipython",
    "version": 3
   },
   "file_extension": ".py",
   "mimetype": "text/x-python",
   "name": "python",
   "nbconvert_exporter": "python",
   "pygments_lexer": "ipython3",
   "version": "3.10.18"
  }
 },
 "nbformat": 4,
 "nbformat_minor": 5
}
